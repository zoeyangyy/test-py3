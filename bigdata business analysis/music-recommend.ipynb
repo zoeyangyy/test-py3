{
 "cells": [
  {
   "cell_type": "code",
   "execution_count": 2,
   "metadata": {},
   "outputs": [
    {
     "name": "stderr",
     "output_type": "stream",
     "text": [
      "Using TensorFlow backend.\n"
     ]
    }
   ],
   "source": [
    "import os\n",
    "os.chdir('/Users/zoe/Documents/复旦课程/大数据商业分析/pj2')\n",
    "import json\n",
    "import gensim\n",
    "from gensim.models import Word2Vec\n",
    "import random"
   ]
  },
  {
   "cell_type": "code",
   "execution_count": 7,
   "metadata": {},
   "outputs": [
    {
     "name": "stdout",
     "output_type": "stream",
     "text": [
      "119143\n"
     ]
    }
   ],
   "source": [
    "# 得到歌单\n",
    "with open('playlists.json', 'r', encoding='utf8') as file:\n",
    "    contents0 = [json.loads(one) for one in file.readlines()]\n",
    "print(len(contents0))"
   ]
  },
  {
   "cell_type": "code",
   "execution_count": 3,
   "metadata": {},
   "outputs": [
    {
     "name": "stdout",
     "output_type": "stream",
     "text": [
      "143930\n"
     ]
    }
   ],
   "source": [
    "with open('playlists(1).json', 'r', encoding='utf8') as file:\n",
    "    contents = [json.loads(one) for one in file.readlines()]\n",
    "print(len(contents))"
   ]
  },
  {
   "cell_type": "code",
   "execution_count": 10,
   "metadata": {},
   "outputs": [
    {
     "data": {
      "text/plain": [
       "[{'createTime': 1513149161705,\n",
       "  'description': '电子和女声擦除的火花\\n\\n只和品味相同的你分享',\n",
       "  'expertTags': None,\n",
       "  'experts': None,\n",
       "  'highQuality': False,\n",
       "  'id': 2013139534,\n",
       "  'playCount': 1724,\n",
       "  'shareCount': 3,\n",
       "  'signature': '一生漂泊摆渡，临岸却是孤独。',\n",
       "  'songs': [457552211],\n",
       "  'tags': ['清新', '性感', '兴奋'],\n",
       "  'trackCount': 1,\n",
       "  'u_description': '',\n",
       "  'u_detail': '',\n",
       "  'updateTime': 1526354750683,\n",
       "  'userId': 290932780,\n",
       "  'userType': 0,\n",
       "  'username': '李半知'},\n",
       " {'createTime': 1461224938746,\n",
       "  'description': '歌单里都是评论两位数、非常冷门的日系女毒，每一首都是我的挚爱，希望也能惊艳到你呢！\\n（封面原图见我动态）。\\n[ 霓虹女毒 ] 冷门良曲，柔致心间 \\n——挚爱女毒的alongClap',\n",
       "  'expertTags': ['ACG', '日语'],\n",
       "  'experts': None,\n",
       "  'highQuality': False,\n",
       "  'id': 367268443,\n",
       "  'playCount': 112310,\n",
       "  'shareCount': 71,\n",
       "  'signature': '曾在网易云最好的时候，遇到过最好的一些人，度过了很开心的一段时光。回归初心，好好欣赏音乐本来的美。 曾经，网易云音乐 听见好时光',\n",
       "  'songs': [30398710],\n",
       "  'tags': ['日语', '治愈', '安静'],\n",
       "  'trackCount': 1,\n",
       "  'u_description': '',\n",
       "  'u_detail': '',\n",
       "  'updateTime': 1463508358109,\n",
       "  'userId': 57192301,\n",
       "  'userType': 0,\n",
       "  'username': 'alongClap'},\n",
       " {'createTime': 1490713895955,\n",
       "  'description': '纯音乐，听着音乐画着画，\\nThis is my life,fighting.\\n考个好大学。',\n",
       "  'expertTags': None,\n",
       "  'experts': None,\n",
       "  'highQuality': False,\n",
       "  'id': 644616804,\n",
       "  'playCount': 25879,\n",
       "  'shareCount': 5,\n",
       "  'signature': '人生何必强求，做好自己，自在逍遥。',\n",
       "  'songs': [36953764],\n",
       "  'tags': ['轻音乐', '学习', '放松'],\n",
       "  'trackCount': 1,\n",
       "  'u_description': '',\n",
       "  'u_detail': '',\n",
       "  'updateTime': 1523811656707,\n",
       "  'userId': 391492698,\n",
       "  'userType': 0,\n",
       "  'username': '一个咸鱼美术生'},\n",
       " {'createTime': 1527604035952,\n",
       "  'description': '歌单作为新店开业礼物 祝生意兴隆，财源广进！',\n",
       "  'expertTags': None,\n",
       "  'experts': None,\n",
       "  'highQuality': False,\n",
       "  'id': 2246840941,\n",
       "  'playCount': 47,\n",
       "  'shareCount': 0,\n",
       "  'signature': '城南花已开 故人已不在',\n",
       "  'songs': [474567044],\n",
       "  'tags': ['轻音乐', '治愈', '思念'],\n",
       "  'trackCount': 1,\n",
       "  'u_description': '',\n",
       "  'u_detail': '',\n",
       "  'updateTime': 1527776567495,\n",
       "  'userId': 443677836,\n",
       "  'userType': 0,\n",
       "  'username': '一个灯塔'},\n",
       " {'createTime': 1515954617698,\n",
       "  'description': '歌单会一直持更，新加的歌会排在比较前面5-15左右但最前面几首是一直不变的！',\n",
       "  'expertTags': None,\n",
       "  'experts': None,\n",
       "  'highQuality': False,\n",
       "  'id': 2059014769,\n",
       "  'playCount': 56455,\n",
       "  'shareCount': 26,\n",
       "  'signature': 'THEWORSTPARTISTHEREISNOONEELSETOBLAME',\n",
       "  'songs': [444548941],\n",
       "  'tags': ['夜晚', '孤独', '思念'],\n",
       "  'trackCount': 1,\n",
       "  'u_description': '',\n",
       "  'u_detail': '',\n",
       "  'updateTime': 1526138696343,\n",
       "  'userId': 303899656,\n",
       "  'userType': 0,\n",
       "  'username': 'Itsjustacrush'}]"
      ]
     },
     "execution_count": 10,
     "metadata": {},
     "output_type": "execute_result"
    }
   ],
   "source": [
    "contents[120000:120005]"
   ]
  },
  {
   "cell_type": "code",
   "execution_count": 6,
   "metadata": {},
   "outputs": [
    {
     "data": {
      "text/plain": [
       "2861"
      ]
     },
     "execution_count": 6,
     "metadata": {},
     "output_type": "execute_result"
    }
   ],
   "source": [
    "# 歌单中歌曲数大于1的只有2010；\n",
    "len(list(filter(lambda x:True if len(x['songs'])>1 else False, contents)))"
   ]
  },
  {
   "cell_type": "code",
   "execution_count": null,
   "metadata": {},
   "outputs": [],
   "source": [
    "filtered_contents = list(filter(lambda x:True if len(x['songs'])>1 else False, contents))"
   ]
  },
  {
   "cell_type": "code",
   "execution_count": 148,
   "metadata": {},
   "outputs": [],
   "source": [
    "# 处理songs\n",
    "songs = []\n",
    "with open('songs.json', 'r', encoding='utf8') as file:\n",
    "    for one in file.readlines():\n",
    "        new_dict = {}\n",
    "        one_dict = json.loads(one)\n",
    "        new_dict['id'] = one_dict['id']\n",
    "        new_dict['album'] = one_dict['album']\n",
    "        new_dict['company'] = one_dict['album_company']\n",
    "        new_dict['artist'] = one_dict['artist']\n",
    "        new_dict['name'] = one_dict['name']\n",
    "        new_dict['popularity'] = one_dict['popularity']\n",
    "        songs.append(new_dict)\n",
    "    \n",
    "song_dict = {}\n",
    "for one in songs:\n",
    "    song_dict[one['id']] = one"
   ]
  },
  {
   "cell_type": "code",
   "execution_count": null,
   "metadata": {},
   "outputs": [],
   "source": [
    "for one in filtered_contents[:100]:\n",
    "    print(list(map(lambda x:song_dict[x]['name'], one['songs'])))"
   ]
  },
  {
   "cell_type": "code",
   "execution_count": null,
   "metadata": {},
   "outputs": [],
   "source": []
  },
  {
   "cell_type": "code",
   "execution_count": 104,
   "metadata": {},
   "outputs": [],
   "source": [
    "# 遍历所有歌单，生成模型\n",
    "playlist_sequence = []\n",
    "for one in filtered_contents:\n",
    "    song_sequence = list(map(lambda x:str(x), one['songs']))\n",
    "    for _ in range(len(song_sequence)):\n",
    "        new = list(song_sequence)\n",
    "        random.shuffle(new)\n",
    "        playlist_sequence.append(new)\n",
    "\n",
    "# out 为输出模型\n",
    "out = 'song2vec.model'\n",
    "model = Word2Vec(sentences=playlist_sequence, size=100, window=5, min_count=1)\n",
    "model.save(out)"
   ]
  },
  {
   "cell_type": "code",
   "execution_count": 150,
   "metadata": {},
   "outputs": [],
   "source": [
    "# 测试模型\n",
    "def test(song_id):\n",
    "    model = gensim.models.Word2Vec.load(\"song2vec.model\")\n",
    "    result = model.most_similar(str(song_id))\n",
    "    print(song_dict[song_id])\n",
    "    for one in result:\n",
    "        print(((song_dict[int(one[0])]['artist'],song_dict[int(one[0])]['name'],song_dict[int(one[0])]['popularity']), one[1]))"
   ]
  },
  {
   "cell_type": "code",
   "execution_count": 152,
   "metadata": {},
   "outputs": [
    {
     "name": "stdout",
     "output_type": "stream",
     "text": [
      "{'id': 481859794, 'album': '齐天', 'company': '奔跑怪物', 'artist': '华晨宇', 'name': '齐天', 'popularity': 100.0}\n",
      "{'id': 32408691, 'album': '热门华语264', 'company': '', 'artist': '兔裹煎蛋卷', 'name': '齐天', 'popularity': 100.0}\n",
      "{'id': 451104927, 'album': '洛天依', 'company': None, 'artist': '迁梦', 'name': '齐天', 'popularity': 95.0}\n"
     ]
    }
   ],
   "source": [
    "for one in songs:\n",
    "    if one['name'] == '齐天':\n",
    "        print(one)"
   ]
  },
  {
   "cell_type": "code",
   "execution_count": 153,
   "metadata": {},
   "outputs": [
    {
     "name": "stdout",
     "output_type": "stream",
     "text": [
      "{'id': 481859794, 'album': '齐天', 'company': '奔跑怪物', 'artist': '华晨宇', 'name': '齐天', 'popularity': 100.0}\n",
      "(('华晨宇', '微光', 100.0), 0.9784262180328369)\n",
      "(('华晨宇', '造物者', 100.0), 0.9724021553993225)\n",
      "(('华晨宇', 'To Be Free', 100.0), 0.970414400100708)\n",
      "(('华晨宇', '差不多先生 (Live) - live', 100.0), 0.9691726565361023)\n",
      "(('华晨宇', '我管你', 100.0), 0.9668713808059692)\n",
      "(('华晨宇', '卡西莫多的礼物', 100.0), 0.9658896327018738)\n",
      "(('华晨宇', '故乡的云', 100.0), 0.962181568145752)\n",
      "(('华晨宇', '趁你还年轻', 100.0), 0.9613037109375)\n",
      "(('华晨宇', '春(Live版)', 100.0), 0.9612929821014404)\n",
      "(('华晨宇', '环游', 100.0), 0.9603214263916016)\n"
     ]
    }
   ],
   "source": [
    "test(481859794)"
   ]
  },
  {
   "cell_type": "code",
   "execution_count": null,
   "metadata": {},
   "outputs": [],
   "source": []
  }
 ],
 "metadata": {
  "kernelspec": {
   "display_name": "Python 3",
   "language": "python",
   "name": "python3"
  },
  "language_info": {
   "codemirror_mode": {
    "name": "ipython",
    "version": 3
   },
   "file_extension": ".py",
   "mimetype": "text/x-python",
   "name": "python",
   "nbconvert_exporter": "python",
   "pygments_lexer": "ipython3",
   "version": "3.6.2"
  }
 },
 "nbformat": 4,
 "nbformat_minor": 2
}
